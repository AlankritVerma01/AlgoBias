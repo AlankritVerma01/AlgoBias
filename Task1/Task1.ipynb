{
 "cells": [
  {
   "cell_type": "code",
   "execution_count": 1,
   "metadata": {},
   "outputs": [],
   "source": [
    "import tweepy\n",
    "import pandas as pd"
   ]
  },
  {
   "cell_type": "code",
   "execution_count": 2,
   "metadata": {},
   "outputs": [],
   "source": [
    "# consumer_key = \"Dlgfd0u0tx9OMqB0OcOSZB05S\"\n",
    "# consumer_secret =\"U5kcsefmfdRrOQqUHAbuYBJMgfWxqdWX3PuIs59o8sI0V1JKC3\"\n",
    "# access_token = \"1344983454304198656-ABx6Lst078K2BgQqNFoygUtcMYyvuL\"\n",
    "# access_token_secret = \"qQcOCpDBEVhmaainWC7NrjCdYYI2lUuBGaQt70khBU6YQ\"\n",
    "# bearer_token = \"AAAAAAAAAAAAAAAAAAAAADMXngEAAAAAYf23envOFs4HKgzmxknLXQlqP%2BA%3Dy525MbKgO4ovCFoQSkTGpEMhdlJ4JH0ZgyDyQ6It6uTXT4nOdj\""
   ]
  },
  {
   "cell_type": "code",
   "execution_count": 3,
   "metadata": {},
   "outputs": [],
   "source": [
    "auth = tweepy.OAuth1UserHandler(consumer_key, consumer_secret)\n",
    "auth.set_access_token(access_token, access_token_secret)\n",
    "api = tweepy.API(auth)"
   ]
  },
  {
   "cell_type": "code",
   "execution_count": 4,
   "metadata": {},
   "outputs": [],
   "source": [
    "cursor = tweepy.Cursor(api.user_timeline, id='verma_alankrit', tweet_mode=\"extended\").items(1)"
   ]
  },
  {
   "cell_type": "code",
   "execution_count": 5,
   "metadata": {},
   "outputs": [
    {
     "name": "stderr",
     "output_type": "stream",
     "text": [
      "Unexpected parameter: id\n"
     ]
    },
    {
     "name": "stdout",
     "output_type": "stream",
     "text": [
      "Status(_api=<tweepy.api.API object at 0x000002449EDAC690>, _json={'created_at': 'Wed May 12 17:36:39 +0000 2021', 'id': 1392534199345717248, 'id_str': '1392534199345717248', 'full_text': '@IndiaPostOffice addition to the previous tweet ( reply of ur this tweet only ) -- the canada post website also shows that it is not received at Canada.  please do that quick  ,.\\nThanks , my post is delayed by 1month', 'truncated': False, 'display_text_range': [17, 216], 'entities': {'hashtags': [], 'symbols': [], 'user_mentions': [{'screen_name': 'IndiaPostOffice', 'name': 'India Post', 'id': 2579558348, 'id_str': '2579558348', 'indices': [0, 16]}], 'urls': []}, 'source': '<a href=\"https://mobile.twitter.com\" rel=\"nofollow\">Twitter Web App</a>', 'in_reply_to_status_id': 1392448073083850752, 'in_reply_to_status_id_str': '1392448073083850752', 'in_reply_to_user_id': 2579558348, 'in_reply_to_user_id_str': '2579558348', 'in_reply_to_screen_name': 'IndiaPostOffice', 'user': {'id': 1344983454304198656, 'id_str': '1344983454304198656', 'name': 'Alankrit Verma', 'screen_name': 'verma_alankrit', 'location': '', 'description': '', 'url': None, 'entities': {'description': {'urls': []}}, 'protected': False, 'followers_count': 0, 'friends_count': 5, 'listed_count': 0, 'created_at': 'Fri Jan 01 12:28:28 +0000 2021', 'favourites_count': 0, 'utc_offset': None, 'time_zone': None, 'geo_enabled': False, 'verified': False, 'statuses_count': 12, 'lang': None, 'contributors_enabled': False, 'is_translator': False, 'is_translation_enabled': False, 'profile_background_color': 'F5F8FA', 'profile_background_image_url': None, 'profile_background_image_url_https': None, 'profile_background_tile': False, 'profile_image_url': 'http://abs.twimg.com/sticky/default_profile_images/default_profile_normal.png', 'profile_image_url_https': 'https://abs.twimg.com/sticky/default_profile_images/default_profile_normal.png', 'profile_link_color': '1DA1F2', 'profile_sidebar_border_color': 'C0DEED', 'profile_sidebar_fill_color': 'DDEEF6', 'profile_text_color': '333333', 'profile_use_background_image': True, 'has_extended_profile': True, 'default_profile': True, 'default_profile_image': True, 'following': False, 'follow_request_sent': False, 'notifications': False, 'translator_type': 'none', 'withheld_in_countries': []}, 'geo': None, 'coordinates': None, 'place': None, 'contributors': None, 'is_quote_status': False, 'retweet_count': 0, 'favorite_count': 0, 'favorited': False, 'retweeted': False, 'lang': 'en'}, created_at=datetime.datetime(2021, 5, 12, 17, 36, 39, tzinfo=datetime.timezone.utc), id=1392534199345717248, id_str='1392534199345717248', full_text='@IndiaPostOffice addition to the previous tweet ( reply of ur this tweet only ) -- the canada post website also shows that it is not received at Canada.  please do that quick  ,.\\nThanks , my post is delayed by 1month', truncated=False, display_text_range=[17, 216], entities={'hashtags': [], 'symbols': [], 'user_mentions': [{'screen_name': 'IndiaPostOffice', 'name': 'India Post', 'id': 2579558348, 'id_str': '2579558348', 'indices': [0, 16]}], 'urls': []}, source='Twitter Web App', source_url='https://mobile.twitter.com', in_reply_to_status_id=1392448073083850752, in_reply_to_status_id_str='1392448073083850752', in_reply_to_user_id=2579558348, in_reply_to_user_id_str='2579558348', in_reply_to_screen_name='IndiaPostOffice', author=User(_api=<tweepy.api.API object at 0x000002449EDAC690>, _json={'id': 1344983454304198656, 'id_str': '1344983454304198656', 'name': 'Alankrit Verma', 'screen_name': 'verma_alankrit', 'location': '', 'description': '', 'url': None, 'entities': {'description': {'urls': []}}, 'protected': False, 'followers_count': 0, 'friends_count': 5, 'listed_count': 0, 'created_at': 'Fri Jan 01 12:28:28 +0000 2021', 'favourites_count': 0, 'utc_offset': None, 'time_zone': None, 'geo_enabled': False, 'verified': False, 'statuses_count': 12, 'lang': None, 'contributors_enabled': False, 'is_translator': False, 'is_translation_enabled': False, 'profile_background_color': 'F5F8FA', 'profile_background_image_url': None, 'profile_background_image_url_https': None, 'profile_background_tile': False, 'profile_image_url': 'http://abs.twimg.com/sticky/default_profile_images/default_profile_normal.png', 'profile_image_url_https': 'https://abs.twimg.com/sticky/default_profile_images/default_profile_normal.png', 'profile_link_color': '1DA1F2', 'profile_sidebar_border_color': 'C0DEED', 'profile_sidebar_fill_color': 'DDEEF6', 'profile_text_color': '333333', 'profile_use_background_image': True, 'has_extended_profile': True, 'default_profile': True, 'default_profile_image': True, 'following': False, 'follow_request_sent': False, 'notifications': False, 'translator_type': 'none', 'withheld_in_countries': []}, id=1344983454304198656, id_str='1344983454304198656', name='Alankrit Verma', screen_name='verma_alankrit', location='', description='', url=None, entities={'description': {'urls': []}}, protected=False, followers_count=0, friends_count=5, listed_count=0, created_at=datetime.datetime(2021, 1, 1, 12, 28, 28, tzinfo=datetime.timezone.utc), favourites_count=0, utc_offset=None, time_zone=None, geo_enabled=False, verified=False, statuses_count=12, lang=None, contributors_enabled=False, is_translator=False, is_translation_enabled=False, profile_background_color='F5F8FA', profile_background_image_url=None, profile_background_image_url_https=None, profile_background_tile=False, profile_image_url='http://abs.twimg.com/sticky/default_profile_images/default_profile_normal.png', profile_image_url_https='https://abs.twimg.com/sticky/default_profile_images/default_profile_normal.png', profile_link_color='1DA1F2', profile_sidebar_border_color='C0DEED', profile_sidebar_fill_color='DDEEF6', profile_text_color='333333', profile_use_background_image=True, has_extended_profile=True, default_profile=True, default_profile_image=True, following=False, follow_request_sent=False, notifications=False, translator_type='none', withheld_in_countries=[]), user=User(_api=<tweepy.api.API object at 0x000002449EDAC690>, _json={'id': 1344983454304198656, 'id_str': '1344983454304198656', 'name': 'Alankrit Verma', 'screen_name': 'verma_alankrit', 'location': '', 'description': '', 'url': None, 'entities': {'description': {'urls': []}}, 'protected': False, 'followers_count': 0, 'friends_count': 5, 'listed_count': 0, 'created_at': 'Fri Jan 01 12:28:28 +0000 2021', 'favourites_count': 0, 'utc_offset': None, 'time_zone': None, 'geo_enabled': False, 'verified': False, 'statuses_count': 12, 'lang': None, 'contributors_enabled': False, 'is_translator': False, 'is_translation_enabled': False, 'profile_background_color': 'F5F8FA', 'profile_background_image_url': None, 'profile_background_image_url_https': None, 'profile_background_tile': False, 'profile_image_url': 'http://abs.twimg.com/sticky/default_profile_images/default_profile_normal.png', 'profile_image_url_https': 'https://abs.twimg.com/sticky/default_profile_images/default_profile_normal.png', 'profile_link_color': '1DA1F2', 'profile_sidebar_border_color': 'C0DEED', 'profile_sidebar_fill_color': 'DDEEF6', 'profile_text_color': '333333', 'profile_use_background_image': True, 'has_extended_profile': True, 'default_profile': True, 'default_profile_image': True, 'following': False, 'follow_request_sent': False, 'notifications': False, 'translator_type': 'none', 'withheld_in_countries': []}, id=1344983454304198656, id_str='1344983454304198656', name='Alankrit Verma', screen_name='verma_alankrit', location='', description='', url=None, entities={'description': {'urls': []}}, protected=False, followers_count=0, friends_count=5, listed_count=0, created_at=datetime.datetime(2021, 1, 1, 12, 28, 28, tzinfo=datetime.timezone.utc), favourites_count=0, utc_offset=None, time_zone=None, geo_enabled=False, verified=False, statuses_count=12, lang=None, contributors_enabled=False, is_translator=False, is_translation_enabled=False, profile_background_color='F5F8FA', profile_background_image_url=None, profile_background_image_url_https=None, profile_background_tile=False, profile_image_url='http://abs.twimg.com/sticky/default_profile_images/default_profile_normal.png', profile_image_url_https='https://abs.twimg.com/sticky/default_profile_images/default_profile_normal.png', profile_link_color='1DA1F2', profile_sidebar_border_color='C0DEED', profile_sidebar_fill_color='DDEEF6', profile_text_color='333333', profile_use_background_image=True, has_extended_profile=True, default_profile=True, default_profile_image=True, following=False, follow_request_sent=False, notifications=False, translator_type='none', withheld_in_countries=[]), geo=None, coordinates=None, place=None, contributors=None, is_quote_status=False, retweet_count=0, favorite_count=0, favorited=False, retweeted=False, lang='en')\n"
     ]
    }
   ],
   "source": [
    "for i in cursor:\n",
    "    print(i)"
   ]
  }
 ],
 "metadata": {
  "kernelspec": {
   "display_name": "Python 3",
   "language": "python",
   "name": "python3"
  },
  "language_info": {
   "codemirror_mode": {
    "name": "ipython",
    "version": 3
   },
   "file_extension": ".py",
   "mimetype": "text/x-python",
   "name": "python",
   "nbconvert_exporter": "python",
   "pygments_lexer": "ipython3",
   "version": "3.11.3"
  },
  "orig_nbformat": 4
 },
 "nbformat": 4,
 "nbformat_minor": 2
}
